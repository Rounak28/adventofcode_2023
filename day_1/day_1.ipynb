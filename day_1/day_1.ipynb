{
 "cells": [
  {
   "cell_type": "code",
   "execution_count": 16,
   "id": "b2cdc64c",
   "metadata": {},
   "outputs": [],
   "source": [
    "import pandas as pd\n",
    "\n",
    "input_data = pd.read_csv('input.csv')\n",
    "input_data = input_data['data'].to_list()"
   ]
  },
  {
   "cell_type": "code",
   "execution_count": 187,
   "id": "7e0ad048",
   "metadata": {},
   "outputs": [
    {
     "data": {
      "text/plain": [
       "54634"
      ]
     },
     "execution_count": 187,
     "metadata": {},
     "output_type": "execute_result"
    }
   ],
   "source": [
    "import re\n",
    "digits = []\n",
    "\n",
    "for record in input_data:\n",
    "    data = re.findall(r'\\d', record)\n",
    "    val = 0\n",
    "    if len(data) == 1:\n",
    "        val = data[0] + data[0]\n",
    "    if len(data) == 2:\n",
    "        val = data[0] + data[1]\n",
    "    if len(data) > 2:\n",
    "        val = data[0] + data[-1]\n",
    "\n",
    "    digits.append(int(val))\n",
    "    # print(record, val)\n",
    "\n",
    "sum(digits)        "
   ]
  },
  {
   "cell_type": "code",
   "execution_count": 175,
   "id": "167884c0",
   "metadata": {},
   "outputs": [
    {
     "data": {
      "text/plain": [
       "'12'"
      ]
     },
     "execution_count": 175,
     "metadata": {},
     "output_type": "execute_result"
    }
   ],
   "source": [
    "'1' + '2'"
   ]
  },
  {
   "cell_type": "code",
   "execution_count": null,
   "id": "93cb82c7-5649-4f93-9eff-40d8fffd8f02",
   "metadata": {},
   "outputs": [],
   "source": []
  },
  {
   "cell_type": "code",
   "execution_count": null,
   "id": "1ca26b42-c73f-4fb0-8ab1-3c80f35dd2b3",
   "metadata": {},
   "outputs": [],
   "source": []
  }
 ],
 "metadata": {
  "kernelspec": {
   "display_name": "Python 3 (ipykernel)",
   "language": "python",
   "name": "python3"
  },
  "language_info": {
   "codemirror_mode": {
    "name": "ipython",
    "version": 3
   },
   "file_extension": ".py",
   "mimetype": "text/x-python",
   "name": "python",
   "nbconvert_exporter": "python",
   "pygments_lexer": "ipython3",
   "version": "3.10.8"
  }
 },
 "nbformat": 4,
 "nbformat_minor": 5
}
